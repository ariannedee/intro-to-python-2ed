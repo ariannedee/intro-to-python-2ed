{
 "cells": [
  {
   "cell_type": "markdown",
   "id": "3a35bdee-d491-4539-9376-eea4cb36a35a",
   "metadata": {},
   "source": [
    "# Example analysis\n",
    "We'll be looking at a CSV dataset of people who tip at restaurants. The source data can be found in `data/tips.csv`.\n",
    "\n",
    "The original dataset can be found at https://github.com/mwaskom/seaborn-data.\n",
    "\n",
    "Tipping behavior at a popular US restaurant chain in a mall in 1990."
   ]
  },
  {
   "cell_type": "markdown",
   "id": "bfb30ec9-9eac-443d-afee-d0d0846f3c75",
   "metadata": {},
   "source": [
    "## Import pandas"
   ]
  },
  {
   "cell_type": "code",
   "execution_count": null,
   "id": "5c6f7357-8896-4439-a4ac-b12b095d418e",
   "metadata": {},
   "outputs": [],
   "source": []
  },
  {
   "cell_type": "markdown",
   "id": "fa5b5d6a-2e39-480f-8653-82254b980eb1",
   "metadata": {},
   "source": [
    "## Import the dataset"
   ]
  },
  {
   "cell_type": "code",
   "execution_count": null,
   "id": "9bdf9a07-9f62-4b7e-90cf-6d6a0b6ccf88",
   "metadata": {},
   "outputs": [],
   "source": []
  },
  {
   "cell_type": "markdown",
   "id": "a95c0738-0962-468c-a497-7e039b4b2131",
   "metadata": {},
   "source": [
    "## Describe the data"
   ]
  },
  {
   "cell_type": "code",
   "execution_count": null,
   "id": "80700c8f-5edf-49ca-b13c-d05b1dc595e2",
   "metadata": {},
   "outputs": [],
   "source": []
  },
  {
   "cell_type": "markdown",
   "id": "d9f505f1-e5c2-4fde-95fa-a8d2b05b6b54",
   "metadata": {},
   "source": [
    "## Clean some data"
   ]
  },
  {
   "cell_type": "code",
   "execution_count": null,
   "id": "475cf8b7-4177-455b-ac0b-d9bc13335ac5",
   "metadata": {},
   "outputs": [],
   "source": []
  },
  {
   "cell_type": "markdown",
   "id": "f5b787bf-5bdc-45c2-a372-de79dc40588e",
   "metadata": {},
   "source": [
    "## Add new columns"
   ]
  },
  {
   "cell_type": "code",
   "execution_count": null,
   "id": "7b8993eb-ade8-4a9a-a310-7deb3cacef6b",
   "metadata": {},
   "outputs": [],
   "source": []
  },
  {
   "cell_type": "markdown",
   "id": "f71d5400-6dec-4c33-af17-2ce252f10e79",
   "metadata": {},
   "source": [
    "## Plot some data"
   ]
  },
  {
   "cell_type": "code",
   "execution_count": null,
   "id": "506582df-cf1d-4612-9288-0cdb10e67f0b",
   "metadata": {},
   "outputs": [],
   "source": []
  },
  {
   "cell_type": "markdown",
   "id": "db4b5197-a4b1-4368-a45b-acddb6005338",
   "metadata": {},
   "source": [
    "## Get some statistsics"
   ]
  },
  {
   "cell_type": "code",
   "execution_count": null,
   "id": "137b3deb-7d54-4856-b4a3-cf1d82affd74",
   "metadata": {},
   "outputs": [],
   "source": []
  }
 ],
 "metadata": {
  "kernelspec": {
   "display_name": "Python 3 (ipykernel)",
   "language": "python",
   "name": "python3"
  },
  "language_info": {
   "codemirror_mode": {
    "name": "ipython",
    "version": 3
   },
   "file_extension": ".py",
   "mimetype": "text/x-python",
   "name": "python",
   "nbconvert_exporter": "python",
   "pygments_lexer": "ipython3",
   "version": "3.13.0"
  }
 },
 "nbformat": 4,
 "nbformat_minor": 5
}
